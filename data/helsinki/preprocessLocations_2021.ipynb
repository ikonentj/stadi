{
 "cells": [
  {
   "cell_type": "code",
   "execution_count": 1,
   "metadata": {},
   "outputs": [],
   "source": [
    "import pandas as pd\n",
    "import numpy as np\n",
    "import json\n",
    "import matplotlib.pylab as plt\n",
    "import copy\n",
    "from SBRP_DI.schuijbroek17 import visu, algorithms, tools, analytics"
   ]
  },
  {
   "cell_type": "code",
   "execution_count": 2,
   "metadata": {},
   "outputs": [],
   "source": [
    "year = 2021\n",
    "window_start = '{}-05-01 00:00:00'.format(year)\n",
    "window_end = '{}-08-01 00:00:00'.format(year)"
   ]
  },
  {
   "cell_type": "markdown",
   "metadata": {},
   "source": [
    "## Load the trip data"
   ]
  },
  {
   "cell_type": "code",
   "execution_count": 3,
   "metadata": {},
   "outputs": [],
   "source": [
    "trips_dfs = []\n",
    "months = ['04', '05', '06', '07', '08', '09', '10']\n",
    "for month in months:\n",
    "    trips_dfs.append(pd.read_csv('trips/2021-{}.csv'.format(month))) \n",
    "trips = pd.concat(trips_dfs)"
   ]
  },
  {
   "cell_type": "code",
   "execution_count": 4,
   "metadata": {},
   "outputs": [
    {
     "data": {
      "text/html": [
       "<div>\n",
       "<style scoped>\n",
       "    .dataframe tbody tr th:only-of-type {\n",
       "        vertical-align: middle;\n",
       "    }\n",
       "\n",
       "    .dataframe tbody tr th {\n",
       "        vertical-align: top;\n",
       "    }\n",
       "\n",
       "    .dataframe thead th {\n",
       "        text-align: right;\n",
       "    }\n",
       "</style>\n",
       "<table border=\"1\" class=\"dataframe\">\n",
       "  <thead>\n",
       "    <tr style=\"text-align: right;\">\n",
       "      <th></th>\n",
       "      <th>Departure</th>\n",
       "      <th>Return</th>\n",
       "      <th>Departure station id</th>\n",
       "      <th>Departure station name</th>\n",
       "      <th>Return station id</th>\n",
       "      <th>Return station name</th>\n",
       "      <th>Covered distance (m)</th>\n",
       "      <th>Duration (sec.)</th>\n",
       "    </tr>\n",
       "  </thead>\n",
       "  <tbody>\n",
       "    <tr>\n",
       "      <th>0</th>\n",
       "      <td>2021-04-30T23:59:54</td>\n",
       "      <td>2021-05-01T00:08:15</td>\n",
       "      <td>16</td>\n",
       "      <td>Liisanpuistikko</td>\n",
       "      <td>2</td>\n",
       "      <td>Laivasillankatu</td>\n",
       "      <td>1885.0</td>\n",
       "      <td>499.0</td>\n",
       "    </tr>\n",
       "    <tr>\n",
       "      <th>1</th>\n",
       "      <td>2021-04-30T23:59:52</td>\n",
       "      <td>2021-05-01T00:16:16</td>\n",
       "      <td>20</td>\n",
       "      <td>Kaisaniemenpuisto</td>\n",
       "      <td>112</td>\n",
       "      <td>Rautatieläisenkatu</td>\n",
       "      <td>3359.0</td>\n",
       "      <td>984.0</td>\n",
       "    </tr>\n",
       "    <tr>\n",
       "      <th>2</th>\n",
       "      <td>2021-04-30T23:59:52</td>\n",
       "      <td>2021-05-01T00:13:40</td>\n",
       "      <td>4</td>\n",
       "      <td>Viiskulma</td>\n",
       "      <td>33</td>\n",
       "      <td>Kauppakorkeakoulu</td>\n",
       "      <td>1633.0</td>\n",
       "      <td>824.0</td>\n",
       "    </tr>\n",
       "    <tr>\n",
       "      <th>3</th>\n",
       "      <td>2021-04-30T23:59:43</td>\n",
       "      <td>2021-05-01T00:23:22</td>\n",
       "      <td>133</td>\n",
       "      <td>Paavalinpuisto</td>\n",
       "      <td>241</td>\n",
       "      <td>Agronominkatu</td>\n",
       "      <td>6459.0</td>\n",
       "      <td>1418.0</td>\n",
       "    </tr>\n",
       "    <tr>\n",
       "      <th>4</th>\n",
       "      <td>2021-04-30T23:59:41</td>\n",
       "      <td>2021-05-01T00:16:15</td>\n",
       "      <td>20</td>\n",
       "      <td>Kaisaniemenpuisto</td>\n",
       "      <td>112</td>\n",
       "      <td>Rautatieläisenkatu</td>\n",
       "      <td>3210.0</td>\n",
       "      <td>990.0</td>\n",
       "    </tr>\n",
       "  </tbody>\n",
       "</table>\n",
       "</div>"
      ],
      "text/plain": [
       "             Departure               Return  Departure station id  \\\n",
       "0  2021-04-30T23:59:54  2021-05-01T00:08:15                    16   \n",
       "1  2021-04-30T23:59:52  2021-05-01T00:16:16                    20   \n",
       "2  2021-04-30T23:59:52  2021-05-01T00:13:40                     4   \n",
       "3  2021-04-30T23:59:43  2021-05-01T00:23:22                   133   \n",
       "4  2021-04-30T23:59:41  2021-05-01T00:16:15                    20   \n",
       "\n",
       "  Departure station name  Return station id Return station name  \\\n",
       "0        Liisanpuistikko                  2     Laivasillankatu   \n",
       "1      Kaisaniemenpuisto                112  Rautatieläisenkatu   \n",
       "2              Viiskulma                 33   Kauppakorkeakoulu   \n",
       "3         Paavalinpuisto                241       Agronominkatu   \n",
       "4      Kaisaniemenpuisto                112  Rautatieläisenkatu   \n",
       "\n",
       "   Covered distance (m)  Duration (sec.)  \n",
       "0                1885.0            499.0  \n",
       "1                3359.0            984.0  \n",
       "2                1633.0            824.0  \n",
       "3                6459.0           1418.0  \n",
       "4                3210.0            990.0  "
      ]
     },
     "execution_count": 4,
     "metadata": {},
     "output_type": "execute_result"
    }
   ],
   "source": [
    "trips.head()"
   ]
  },
  {
   "cell_type": "code",
   "execution_count": 5,
   "metadata": {},
   "outputs": [],
   "source": [
    "trips = analytics.preprocessTrips_helsinki(trips)"
   ]
  },
  {
   "cell_type": "markdown",
   "metadata": {},
   "source": [
    "Determine time window of trips"
   ]
  },
  {
   "cell_type": "code",
   "execution_count": 6,
   "metadata": {},
   "outputs": [],
   "source": [
    "trips = trips[window_start:window_end]"
   ]
  },
  {
   "cell_type": "markdown",
   "metadata": {},
   "source": [
    "Get unique stations in the training set"
   ]
  },
  {
   "cell_type": "code",
   "execution_count": 7,
   "metadata": {},
   "outputs": [],
   "source": [
    "unique_stations = trips['Start station number'].unique()"
   ]
  },
  {
   "cell_type": "code",
   "execution_count": 8,
   "metadata": {},
   "outputs": [
    {
     "data": {
      "text/plain": [
       "459"
      ]
     },
     "execution_count": 8,
     "metadata": {},
     "output_type": "execute_result"
    }
   ],
   "source": [
    "len(unique_stations)"
   ]
  },
  {
   "cell_type": "markdown",
   "metadata": {},
   "source": [
    "## Load the station data"
   ]
  },
  {
   "cell_type": "code",
   "execution_count": 9,
   "metadata": {},
   "outputs": [],
   "source": [
    "stations = pd.read_csv('locations/Helsingin_ja_Espoon_kaupunkipyöräasemat_2021.csv')"
   ]
  },
  {
   "cell_type": "code",
   "execution_count": 10,
   "metadata": {},
   "outputs": [
    {
     "data": {
      "text/html": [
       "<div>\n",
       "<style scoped>\n",
       "    .dataframe tbody tr th:only-of-type {\n",
       "        vertical-align: middle;\n",
       "    }\n",
       "\n",
       "    .dataframe tbody tr th {\n",
       "        vertical-align: top;\n",
       "    }\n",
       "\n",
       "    .dataframe thead th {\n",
       "        text-align: right;\n",
       "    }\n",
       "</style>\n",
       "<table border=\"1\" class=\"dataframe\">\n",
       "  <thead>\n",
       "    <tr style=\"text-align: right;\">\n",
       "      <th></th>\n",
       "      <th>FID</th>\n",
       "      <th>ID</th>\n",
       "      <th>Nimi</th>\n",
       "      <th>Namn</th>\n",
       "      <th>Name</th>\n",
       "      <th>Osoite</th>\n",
       "      <th>Adress</th>\n",
       "      <th>Kaupunki</th>\n",
       "      <th>Stad</th>\n",
       "      <th>Operaattor</th>\n",
       "      <th>Kapasiteet</th>\n",
       "      <th>x</th>\n",
       "      <th>y</th>\n",
       "    </tr>\n",
       "  </thead>\n",
       "  <tbody>\n",
       "    <tr>\n",
       "      <th>0</th>\n",
       "      <td>1</td>\n",
       "      <td>501</td>\n",
       "      <td>Hanasaari</td>\n",
       "      <td>Hanaholmen</td>\n",
       "      <td>Hanasaari</td>\n",
       "      <td>Hanasaarenranta 1</td>\n",
       "      <td>Hanaholmsstranden 1</td>\n",
       "      <td>Espoo</td>\n",
       "      <td>Esbo</td>\n",
       "      <td>CityBike Finland</td>\n",
       "      <td>10</td>\n",
       "      <td>24.840319</td>\n",
       "      <td>60.165820</td>\n",
       "    </tr>\n",
       "    <tr>\n",
       "      <th>1</th>\n",
       "      <td>2</td>\n",
       "      <td>503</td>\n",
       "      <td>Keilalahti</td>\n",
       "      <td>Kägelviken</td>\n",
       "      <td>Keilalahti</td>\n",
       "      <td>Keilalahdentie 2</td>\n",
       "      <td>Kägelviksvägen 2</td>\n",
       "      <td>Espoo</td>\n",
       "      <td>Esbo</td>\n",
       "      <td>CityBike Finland</td>\n",
       "      <td>28</td>\n",
       "      <td>24.827467</td>\n",
       "      <td>60.171524</td>\n",
       "    </tr>\n",
       "    <tr>\n",
       "      <th>2</th>\n",
       "      <td>3</td>\n",
       "      <td>505</td>\n",
       "      <td>Westendinasema</td>\n",
       "      <td>Westendstationen</td>\n",
       "      <td>Westendinasema</td>\n",
       "      <td>Westendintie 1</td>\n",
       "      <td>Westendvägen 1</td>\n",
       "      <td>Espoo</td>\n",
       "      <td>Esbo</td>\n",
       "      <td>CityBike Finland</td>\n",
       "      <td>16</td>\n",
       "      <td>24.805758</td>\n",
       "      <td>60.168266</td>\n",
       "    </tr>\n",
       "    <tr>\n",
       "      <th>3</th>\n",
       "      <td>4</td>\n",
       "      <td>507</td>\n",
       "      <td>Golfpolku</td>\n",
       "      <td>Golfstigen</td>\n",
       "      <td>Golfpolku</td>\n",
       "      <td>Golfpolku 3</td>\n",
       "      <td>Golfstigen 3</td>\n",
       "      <td>Espoo</td>\n",
       "      <td>Esbo</td>\n",
       "      <td>CityBike Finland</td>\n",
       "      <td>16</td>\n",
       "      <td>24.796136</td>\n",
       "      <td>60.168143</td>\n",
       "    </tr>\n",
       "    <tr>\n",
       "      <th>4</th>\n",
       "      <td>5</td>\n",
       "      <td>509</td>\n",
       "      <td>Revontulentie</td>\n",
       "      <td>Norrskensvägen</td>\n",
       "      <td>Revontulentie</td>\n",
       "      <td>Revontulentie 10</td>\n",
       "      <td>Norrskensvägen 10</td>\n",
       "      <td>Espoo</td>\n",
       "      <td>Esbo</td>\n",
       "      <td>CityBike Finland</td>\n",
       "      <td>30</td>\n",
       "      <td>24.802938</td>\n",
       "      <td>60.171551</td>\n",
       "    </tr>\n",
       "  </tbody>\n",
       "</table>\n",
       "</div>"
      ],
      "text/plain": [
       "   FID   ID            Nimi              Namn            Name  \\\n",
       "0    1  501       Hanasaari        Hanaholmen       Hanasaari   \n",
       "1    2  503      Keilalahti        Kägelviken      Keilalahti   \n",
       "2    3  505  Westendinasema  Westendstationen  Westendinasema   \n",
       "3    4  507       Golfpolku        Golfstigen       Golfpolku   \n",
       "4    5  509   Revontulentie    Norrskensvägen   Revontulentie   \n",
       "\n",
       "              Osoite               Adress Kaupunki  Stad        Operaattor  \\\n",
       "0  Hanasaarenranta 1  Hanaholmsstranden 1    Espoo  Esbo  CityBike Finland   \n",
       "1   Keilalahdentie 2     Kägelviksvägen 2    Espoo  Esbo  CityBike Finland   \n",
       "2     Westendintie 1       Westendvägen 1    Espoo  Esbo  CityBike Finland   \n",
       "3        Golfpolku 3         Golfstigen 3    Espoo  Esbo  CityBike Finland   \n",
       "4   Revontulentie 10    Norrskensvägen 10    Espoo  Esbo  CityBike Finland   \n",
       "\n",
       "   Kapasiteet          x          y  \n",
       "0          10  24.840319  60.165820  \n",
       "1          28  24.827467  60.171524  \n",
       "2          16  24.805758  60.168266  \n",
       "3          16  24.796136  60.168143  \n",
       "4          30  24.802938  60.171551  "
      ]
     },
     "execution_count": 10,
     "metadata": {},
     "output_type": "execute_result"
    }
   ],
   "source": [
    "stations.head()"
   ]
  },
  {
   "cell_type": "code",
   "execution_count": 11,
   "metadata": {},
   "outputs": [],
   "source": [
    "stations = analytics.preprocessStations_helsinki(stations)\n",
    "stations['City'].replace(' ', 'Helsinki', inplace=True)"
   ]
  },
  {
   "cell_type": "code",
   "execution_count": 12,
   "metadata": {},
   "outputs": [
    {
     "data": {
      "text/plain": [
       "(457, 5)"
      ]
     },
     "execution_count": 12,
     "metadata": {},
     "output_type": "execute_result"
    }
   ],
   "source": [
    "stations.shape"
   ]
  },
  {
   "cell_type": "code",
   "execution_count": 13,
   "metadata": {},
   "outputs": [
    {
     "name": "stdout",
     "output_type": "stream",
     "text": [
      "Missing stations: [997 999 754]\n"
     ]
    }
   ],
   "source": [
    "# missing stations from stations\n",
    "missing = unique_stations[~np.isin(unique_stations, stations.index)]\n",
    "print('Missing stations:', missing)"
   ]
  },
  {
   "cell_type": "code",
   "execution_count": 14,
   "metadata": {
    "scrolled": true
   },
   "outputs": [
    {
     "data": {
      "text/plain": [
       "(1321, 7)"
      ]
     },
     "execution_count": 14,
     "metadata": {},
     "output_type": "execute_result"
    }
   ],
   "source": [
    "# number of trips starting or ending at missing stations\n",
    "trips[trips['Start station number'].isin(missing) | trips['End station number'].isin(missing)].shape"
   ]
  },
  {
   "cell_type": "code",
   "execution_count": 15,
   "metadata": {},
   "outputs": [
    {
     "data": {
      "text/plain": [
       "(1194, 7)"
      ]
     },
     "execution_count": 15,
     "metadata": {},
     "output_type": "execute_result"
    }
   ],
   "source": [
    "trips[trips['Start station number'].isin([754]) | trips['End station number'].isin([754])].shape"
   ]
  },
  {
   "cell_type": "code",
   "execution_count": 16,
   "metadata": {},
   "outputs": [],
   "source": [
    "lintumetsa = pd.DataFrame({'Station ID': 754,\n",
    "'Station': 'Lintumetsä',\n",
    "'Longitude': 24.821200,\n",
    "'Latitude': 60.238410,\n",
    "'# of Docks' : 30,\n",
    "'City' : 'Espoo'}, index=[1])\n",
    "lintumetsa.set_index('Station ID', inplace=True)\n",
    "\n",
    "stations = pd.concat([stations, lintumetsa])\n",
    "stations.sort_index(inplace=True)"
   ]
  },
  {
   "cell_type": "code",
   "execution_count": 17,
   "metadata": {},
   "outputs": [],
   "source": [
    "stations.to_csv('locations/{}.csv'.format(year))"
   ]
  },
  {
   "cell_type": "code",
   "execution_count": null,
   "metadata": {},
   "outputs": [],
   "source": []
  }
 ],
 "metadata": {
  "kernelspec": {
   "display_name": "bikeshare_env",
   "language": "python",
   "name": "bikeshare_env"
  },
  "language_info": {
   "codemirror_mode": {
    "name": "ipython",
    "version": 3
   },
   "file_extension": ".py",
   "mimetype": "text/x-python",
   "name": "python",
   "nbconvert_exporter": "python",
   "pygments_lexer": "ipython3",
   "version": "3.8.3"
  }
 },
 "nbformat": 4,
 "nbformat_minor": 4
}
